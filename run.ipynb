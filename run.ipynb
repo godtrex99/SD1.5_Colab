{
  "nbformat": 4,
  "nbformat_minor": 0,
  "metadata": {
    "colab": {
      "provenance": [],
      "gpuType": "T4",
      "authorship_tag": "ABX9TyPrE5x9vUR+TKXXHnEEHnN7",
      "include_colab_link": true
    },
    "kernelspec": {
      "name": "python3",
      "display_name": "Python 3"
    },
    "language_info": {
      "name": "python"
    },
    "accelerator": "GPU"
  },
  "cells": [
    {
      "cell_type": "markdown",
      "metadata": {
        "id": "view-in-github",
        "colab_type": "text"
      },
      "source": [
        "<a href=\"https://colab.research.google.com/github/godtrex99/SD1.5_Colab/blob/gColab/run.ipynb\" target=\"_parent\"><img src=\"https://colab.research.google.com/assets/colab-badge.svg\" alt=\"Open In Colab\"/></a>"
      ]
    },
    {
      "cell_type": "markdown",
      "source": [],
      "metadata": {
        "id": "O3FUFKpzzTIy"
      }
    },
    {
      "cell_type": "code",
      "execution_count": null,
      "metadata": {
        "id": "mMhi09ILzPXH"
      },
      "outputs": [],
      "source": [
        "#@markdown  #Run UI\n",
        "import os\n",
        "from google.colab import drive\n",
        "drive.mount('/content/drive')\n",
        "\n",
        "#%cd /content\n",
        "\n",
        "!apt -y update -qq\n",
        "!wget https://github.com/camenduru/gperftools/releases/download/v1.0/libtcmalloc_minimal.so.4 -O /content/libtcmalloc_minimal.so.4\n",
        "%env LD_PRELOAD=/content/libtcmalloc_minimal.so.4\n",
        "\n",
        "!pip install torchsde==0.2.5 einops==0.4.1 transformers==4.30.2 safetensors==0.3.1 accelerate==0.21.0 aiohttp==3.8.5\n",
        "!pip install pytorch_lightning==1.9.4 omegaconf==2.2.3 gradio==3.41.2 xformers==0.0.21 triton==2.0.0 pygit2==1.12.2 fastapi==0.94.0\n",
        "\n",
        "!apt -y install -qq aria2\n",
        "#!aria2c --console-log-level=error -c -x 16 -s 16 -k 1M https://huggingface.co/stabilityai/control-lora/resolve/main/revision/clip_vision_g.safetensors -d /content/drive/MyDrive/Fooocus-MRE/models/clip_vision -o clip_vision_g.safetensors\n",
        "#!aria2c --console-log-level=error -c -x 16 -s 16 -k 1M https://huggingface.co/ckpt/juggernaut-xl/resolve/main/juggernautXL_version2.safetensors -d /content/drive/MyDrive/Fooocus-MRE/models/checkpoints\n",
        "\n",
        "%cd /content/drive/MyDrive/Fooocus-MRE\n",
        "\n",
        "!python launch.py --share"
      ]
    }
  ]
}